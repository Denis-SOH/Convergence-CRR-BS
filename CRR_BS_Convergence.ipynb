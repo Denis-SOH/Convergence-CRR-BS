{
 "cells": [
  {
   "cell_type": "code",
   "execution_count": 4,
   "metadata": {},
   "outputs": [],
   "source": [
    "import numpy as np\n",
    "import scipy as sp\n",
    "import pandas as pd\n",
    "import math\n",
    "from scipy.stats import norm"
   ]
  },
  {
   "cell_type": "code",
   "execution_count": 5,
   "metadata": {},
   "outputs": [],
   "source": [
    "S=80\n",
    "K=80\n",
    "T=0.5\n",
    "rf=0.02\n",
    "Volatilité=0.18"
   ]
  },
  {
   "cell_type": "code",
   "execution_count": 6,
   "metadata": {},
   "outputs": [],
   "source": [
    "def black_scholes(option_type, S, K, r, sigma, T):\n",
    "    \"\"\"\n",
    "    Calcule le prix d'une option européenne selon le modèle de Black-Scholes.\n",
    "\n",
    "    Arguments :\n",
    "    - option_type : 'call' pour un call, 'put' pour un put\n",
    "    - S : prix actuel de l'actif sous-jacent\n",
    "    - K : prix d'exercice de l'option\n",
    "    - r : taux d'intérêt sans risque (en décimal)\n",
    "    - sigma : volatilité du sous-jacent (en décimal)\n",
    "    - T : temps restant jusqu'à l'expiration de l'option (en années)\n",
    "\n",
    "    Retourne :\n",
    "    - Le prix de l'option\n",
    "    \"\"\"\n",
    "    d1 = (math.log(S / K) + (r + 0.5 * sigma ** 2) * T) / (sigma * math.sqrt(T))\n",
    "    d2 = d1 - sigma * math.sqrt(T)\n",
    "\n",
    "    if option_type == 'call':\n",
    "        option_price = S * norm.cdf(d1) - K * math.exp(-r * T) * norm.cdf(d2)\n",
    "    elif option_type == 'put':\n",
    "        option_price = K * math.exp(-r * T) * norm.cdf(-d2) - S * norm.cdf(-d1)\n",
    "    else:\n",
    "        raise ValueError(\"Le type d'option doit être 'call' ou 'put'.\")\n",
    "\n",
    "    return option_price\n"
   ]
  },
  {
   "cell_type": "code",
   "execution_count": 7,
   "metadata": {},
   "outputs": [
    {
     "name": "stdout",
     "output_type": "stream",
     "text": [
      "4.449678784149157\n",
      "3.653665484082609\n"
     ]
    }
   ],
   "source": [
    "print(black_scholes(option_type='call', S=80, K=80, r=0.02, sigma=0.18, T=0.5))\n",
    "print(black_scholes(option_type='put', S=80, K=80, r=0.02, sigma=0.18, T=0.5))"
   ]
  },
  {
   "cell_type": "code",
   "execution_count": 8,
   "metadata": {},
   "outputs": [],
   "source": [
    "def crr_binary_option(option_type, S, K, r, sigma, T, N):\n",
    "    \"\"\"\n",
    "    Calcule le prix d'une option binaire (options à deux états) selon le modèle de Cox-Ross-Rubinstein (CRR).\n",
    "\n",
    "    Arguments :\n",
    "    - option_type : 'call' pour un call, 'put' pour un put\n",
    "    - S : prix actuel de l'actif sous-jacent\n",
    "    - K : prix d'exercice de l'option\n",
    "    - r : taux d'intérêt sans risque par période (en décimal)\n",
    "    - sigma : volatilité du sous-jacent par période (en décimal)\n",
    "    - T : temps restant jusqu'à l'expiration de l'option (en années)\n",
    "    - N : nombre de périodes\n",
    "\n",
    "    Retourne :\n",
    "    - Le prix de l'option binaire\n",
    "    \"\"\"\n",
    "    delta_t = T / N\n",
    "    u = math.exp(sigma * math.sqrt(delta_t))\n",
    "    d = 1 / u\n",
    "    p = (math.exp(r * delta_t) - d) / (u - d)\n",
    "\n",
    "    # Construction du tableau des prix de l'actif sous-jacent à chaque nœud\n",
    "    prices = [[S]]\n",
    "\n",
    "    for i in range(1, N + 1):\n",
    "        node_prices = []\n",
    "        prev_prices = prices[i - 1]\n",
    "        for j in range(i + 1):\n",
    "            if j == 0:\n",
    "                price = prev_prices[j] * u\n",
    "            else:\n",
    "                price = prev_prices[j - 1] * d\n",
    "            node_prices.append(price)\n",
    "        prices.append(node_prices)\n",
    "\n",
    "    # Calcul des valeurs d'option à l'expiration\n",
    "    option_values = [max(0, price-K) if option_type == 'call' else  max(0, K-price) for price in prices[N]]\n",
    "\n",
    "    # Remontée du tableau des valeurs d'option\n",
    "    for i in range(N - 1, -1, -1):\n",
    "        option_values = [(p * option_values[j] + (1 - p) * option_values[j + 1]) * math.exp(-r * delta_t) for j in range(i + 1)]\n",
    "\n",
    "    return option_values[0]\n"
   ]
  },
  {
   "cell_type": "code",
   "execution_count": 9,
   "metadata": {},
   "outputs": [
    {
     "name": "stdout",
     "output_type": "stream",
     "text": [
      "4.79021461034006\n",
      "3.99420131027353\n"
     ]
    }
   ],
   "source": [
    "print(crr_binary_option(option_type='call', S=80, K=80, r=0.02, sigma=0.18,T=0.5,N=3))\n",
    "print(crr_binary_option(option_type='put', S=80, K=80, r=0.02, sigma=0.18,T=0.5,N=3))"
   ]
  },
  {
   "cell_type": "code",
   "execution_count": 10,
   "metadata": {},
   "outputs": [],
   "source": [
    "def find_N(option_type, S, K, r, sigma, T, epsilon):\n",
    "    N = 999\n",
    "    while True:\n",
    "        crr_price = crr_binary_option(option_type, S, K, r, sigma, T, N)\n",
    "        black_scholes_price = black_scholes(option_type, S, K, r, sigma, T)\n",
    "        diff = abs(crr_price - black_scholes_price)\n",
    "        if diff < epsilon:\n",
    "            break\n",
    "        N += 1\n",
    "    return N"
   ]
  },
  {
   "cell_type": "code",
   "execution_count": 11,
   "metadata": {},
   "outputs": [
    {
     "name": "stdout",
     "output_type": "stream",
     "text": [
      "Le nombre de périodes N pour une différence inférieure à 0.001 est : 999\n"
     ]
    }
   ],
   "source": [
    "epsilon = 0.1\n",
    "N = find_N(option_type='call', S=80, K=80, r=0.02, sigma=0.18, T=0.5, epsilon=0.001)\n",
    "print(\"Le nombre de périodes N pour une différence inférieure à 0.001 est :\", N)"
   ]
  },
  {
   "cell_type": "code",
   "execution_count": 12,
   "metadata": {},
   "outputs": [],
   "source": [
    "\"\"\"S = cours du sous-jacent\n",
    "   K = prix exercice\n",
    "   T = maturité en années\n",
    "   sigma= volatilité annuelle du sous-jacent\n",
    "   m = valeur moyenne du choc sur le cours du sous-jacent\n",
    "   v = écart-type du choc\n",
    "   lamda = nombre de chocs par année\n",
    "   V_BS = valeur option par la formule de Black and Scholes\n",
    "\"\"\"\n",
    "\n",
    "import numpy as np\n",
    "\n",
    "def prolongement_BS(option_type, S, K, r, sigma, T, m, v, lamda, n):\n",
    "   \n",
    "   sigma_n = np.sqrt(sigma**2 + 0*(v**2/T))\n",
    "\n",
    "   r_n = r - lamda*(m-1) + 0*np.log(m)/T\n",
    "   log_sum = sum(np.log(x) for x in range(1,n+1))\n",
    "   option_price = 0\n",
    "   for i in range(1,n+1):\n",
    "      sigma_n = np.sqrt(sigma**2 + i*(v**2/T))\n",
    "      r_n = r - lamda*(m-1) + i*np.log(m)/T\n",
    "      if option_type == 'call':\n",
    "        option_price = option_price + np.exp(-m*lamda*T + i*np.log(m*lamda*T)-log_sum)*black_scholes('call', S, K, r_n, sigma_n, T)\n",
    "      elif option_type == 'put':\n",
    "        option_price = option_price + np.exp(-m*lamda*T + i*np.log(m*lamda*T)-log_sum)*black_scholes('put', S, K, r_n, sigma_n, T)\n",
    "      else:\n",
    "        raise ValueError(\"Le type d'option doit être 'call' ou 'put'.\")\n",
    "   return option_price"
   ]
  },
  {
   "cell_type": "code",
   "execution_count": 13,
   "metadata": {},
   "outputs": [
    {
     "data": {
      "text/plain": [
       "15.104412573075518"
      ]
     },
     "execution_count": 13,
     "metadata": {},
     "output_type": "execute_result"
    }
   ],
   "source": [
    "n=10\n",
    "log_sum = sum(np.log(x) for x in range(1,n+1))\n",
    "log_sum\n"
   ]
  },
  {
   "cell_type": "code",
   "execution_count": 30,
   "metadata": {},
   "outputs": [
    {
     "name": "stdout",
     "output_type": "stream",
     "text": [
      "9.30260150007248e-65\n"
     ]
    }
   ],
   "source": [
    "S=100\n",
    "K=100\n",
    "T=1\n",
    "r=0.02\n",
    "sigma=0.2\n",
    "m=0\n",
    "v=0.03\n",
    "lamda=1\n",
    "n=50\n",
    "print(prolongement_BS(option_type='call', S=80, K=80, r=0.02, sigma=0.18, T=0.5, m=1, v=0.03, lamda=1, n=50))"
   ]
  },
  {
   "cell_type": "code",
   "execution_count": 35,
   "metadata": {},
   "outputs": [],
   "source": [
    "import numpy as np\n",
    "\n",
    "def prolongement_BS2(option_type, S, K, r, sigma, T, m, v, lamda, n):\n",
    "   \n",
    "   sigma_n = np.sqrt(sigma**2 + 1*(v**2/T))\n",
    "\n",
    "   r_n = r - lamda*(m-1) + 1*np.log(m)/T\n",
    "   log_sum = sum(np.log(x) for x in range(1,n+1))\n",
    "   option_price = 0\n",
    "   for i in range(n+1):\n",
    "      sigma_n = np.sqrt(sigma**2 + i*(v**2/T))\n",
    "      r_n = r - lamda*(m-1) + i*np.log(m)/T\n",
    "      option_price = option_price + np.exp(-m*lamda*T + i*np.log(m*lamda*T)-log_sum)*black_scholes(option_type, S, K, r_n, sigma_n, T)\n",
    "      \n",
    "   return option_price"
   ]
  },
  {
   "cell_type": "code",
   "execution_count": 58,
   "metadata": {},
   "outputs": [
    {
     "name": "stdout",
     "output_type": "stream",
     "text": [
      "5.747449625019393\n"
     ]
    }
   ],
   "source": [
    "print(prolongement_BS2(option_type='call', S=100, K=100, r=0.02, sigma=0.2, T=0.5, m=100, v=0.3, lamda=1, n=50))"
   ]
  },
  {
   "cell_type": "code",
   "execution_count": 37,
   "metadata": {},
   "outputs": [],
   "source": [
    "import numpy as np\n",
    "\n",
    "def prolongement_BS3(option_type, S, K, r, sigma, T, m, v, lamda, n):\n",
    "   option_price = 0\n",
    "   if m==0:\n",
    "      option_price = option_price\n",
    "   else:\n",
    "      sigma_n = np.sqrt(sigma**2 + 1*(v**2/T))\n",
    "      r_n = r - lamda*(m-1) + 1*np.log(m)/T\n",
    "      log_sum = sum(np.log(x) for x in range(1,n+1))\n",
    "   \n",
    "      for i in range(n+1):\n",
    "         sigma_n = np.sqrt(sigma**2 + i*(v**2/T))\n",
    "         r_n = r - lamda*(m-1) + i*np.log(m)/T\n",
    "         option_price = option_price + np.exp(-m*lamda*T + i*np.log(m*lamda*T)-log_sum)*black_scholes(option_type, S, K, r_n, sigma_n, T)   \n",
    "   return option_price"
   ]
  },
  {
   "cell_type": "code",
   "execution_count": 48,
   "metadata": {},
   "outputs": [
    {
     "name": "stdout",
     "output_type": "stream",
     "text": [
      "2.1022986263576264e-63\n",
      "8.916037278572539\n"
     ]
    }
   ],
   "source": [
    "print(prolongement_BS3(option_type='call', S=100, K=100, r=0.02, sigma=0.2, T=1, m=0.00001, v=0.3, lamda=1, n=50))\n",
    "print(black_scholes(option_type='call', S=100, K=100, r=0.02, sigma=0.2, T=1))"
   ]
  },
  {
   "cell_type": "code",
   "execution_count": 17,
   "metadata": {},
   "outputs": [],
   "source": [
    "def facto(n):\n",
    "    if (n==0):\n",
    "        factoriel=1\n",
    "    else:\n",
    "        factoriel=n*facto(n-1)\n",
    "    return factoriel\n",
    "\n",
    "      "
   ]
  },
  {
   "cell_type": "code",
   "execution_count": 32,
   "metadata": {},
   "outputs": [
    {
     "data": {
      "text/plain": [
       "120"
      ]
     },
     "execution_count": 32,
     "metadata": {},
     "output_type": "execute_result"
    }
   ],
   "source": [
    "facto(5)"
   ]
  }
 ],
 "metadata": {
  "kernelspec": {
   "display_name": "base",
   "language": "python",
   "name": "python3"
  },
  "language_info": {
   "codemirror_mode": {
    "name": "ipython",
    "version": 3
   },
   "file_extension": ".py",
   "mimetype": "text/x-python",
   "name": "python",
   "nbconvert_exporter": "python",
   "pygments_lexer": "ipython3",
   "version": "3.9.13"
  },
  "orig_nbformat": 4
 },
 "nbformat": 4,
 "nbformat_minor": 2
}
