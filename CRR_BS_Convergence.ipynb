{
 "cells": [
  {
   "cell_type": "code",
   "execution_count": 1,
   "metadata": {},
   "outputs": [],
   "source": [
    "import numpy as np\n",
    "import scipy as sp\n",
    "import pandas as pd\n",
    "import math\n",
    "from scipy.stats import norm"
   ]
  },
  {
   "cell_type": "code",
   "execution_count": 2,
   "metadata": {},
   "outputs": [],
   "source": [
    "S=80\n",
    "K=80\n",
    "T=0.5\n",
    "rf=0.02\n",
    "Volatilité=0.18"
   ]
  },
  {
   "cell_type": "code",
   "execution_count": 3,
   "metadata": {},
   "outputs": [],
   "source": [
    "def black_scholes(option_type, S, K, r, sigma, T):\n",
    "    \"\"\"\n",
    "    Calcule le prix d'une option européenne selon le modèle de Black-Scholes.\n",
    "\n",
    "    Arguments :\n",
    "    - option_type : 'call' pour un call, 'put' pour un put\n",
    "    - S : prix actuel de l'actif sous-jacent\n",
    "    - K : prix d'exercice de l'option\n",
    "    - r : taux d'intérêt sans risque (en décimal)\n",
    "    - sigma : volatilité du sous-jacent (en décimal)\n",
    "    - T : temps restant jusqu'à l'expiration de l'option (en années)\n",
    "\n",
    "    Retourne :\n",
    "    - Le prix de l'option\n",
    "    \"\"\"\n",
    "    d1 = (math.log(S / K) + (r + 0.5 * sigma ** 2) * T) / (sigma * math.sqrt(T))\n",
    "    d2 = d1 - sigma * math.sqrt(T)\n",
    "\n",
    "    if option_type == 'call':\n",
    "        option_price = S * norm.cdf(d1) - K * math.exp(-r * T) * norm.cdf(d2)\n",
    "    elif option_type == 'put':\n",
    "        option_price = K * math.exp(-r * T) * norm.cdf(-d2) - S * norm.cdf(-d1)\n",
    "    else:\n",
    "        raise ValueError(\"Le type d'option doit être 'call' ou 'put'.\")\n",
    "\n",
    "    return option_price\n"
   ]
  },
  {
   "cell_type": "code",
   "execution_count": 4,
   "metadata": {},
   "outputs": [
    {
     "name": "stdout",
     "output_type": "stream",
     "text": [
      "4.449678784149157\n",
      "3.653665484082609\n"
     ]
    }
   ],
   "source": [
    "print(black_scholes(option_type='call', S=80, K=80, r=0.02, sigma=0.18, T=0.5))\n",
    "print(black_scholes(option_type='put', S=80, K=80, r=0.02, sigma=0.18, T=0.5))"
   ]
  },
  {
   "cell_type": "code",
   "execution_count": 5,
   "metadata": {},
   "outputs": [],
   "source": [
    "def crr_binary_option(option_type, S, K, r, sigma, T, N):\n",
    "    \"\"\"\n",
    "    Calcule le prix d'une option binaire (options à deux états) selon le modèle de Cox-Ross-Rubinstein (CRR).\n",
    "\n",
    "    Arguments :\n",
    "    - option_type : 'call' pour un call, 'put' pour un put\n",
    "    - S : prix actuel de l'actif sous-jacent\n",
    "    - K : prix d'exercice de l'option\n",
    "    - r : taux d'intérêt sans risque par période (en décimal)\n",
    "    - sigma : volatilité du sous-jacent par période (en décimal)\n",
    "    - T : temps restant jusqu'à l'expiration de l'option (en années)\n",
    "    - N : nombre de périodes\n",
    "\n",
    "    Retourne :\n",
    "    - Le prix de l'option binaire\n",
    "    \"\"\"\n",
    "    delta_t = T / N\n",
    "    u = math.exp(sigma * math.sqrt(delta_t))\n",
    "    d = 1 / u\n",
    "    p = (math.exp(r * delta_t) - d) / (u - d)\n",
    "\n",
    "    # Construction du tableau des prix de l'actif sous-jacent à chaque nœud\n",
    "    prices = [[S]]\n",
    "\n",
    "    for i in range(1, N + 1):\n",
    "        node_prices = []\n",
    "        prev_prices = prices[i - 1]\n",
    "        for j in range(i + 1):\n",
    "            if j == 0:\n",
    "                price = prev_prices[j] * u\n",
    "            else:\n",
    "                price = prev_prices[j - 1] * d\n",
    "            node_prices.append(price)\n",
    "        prices.append(node_prices)\n",
    "\n",
    "    # Calcul des valeurs d'option à l'expiration\n",
    "    option_values = [max(0, price-K) if option_type == 'call' else  max(0, K-price) for price in prices[N]]\n",
    "\n",
    "    # Remontée du tableau des valeurs d'option\n",
    "    for i in range(N - 1, -1, -1):\n",
    "        option_values = [(p * option_values[j] + (1 - p) * option_values[j + 1]) * math.exp(-r * delta_t) for j in range(i + 1)]\n",
    "\n",
    "    return option_values[0]\n"
   ]
  },
  {
   "cell_type": "code",
   "execution_count": 6,
   "metadata": {},
   "outputs": [
    {
     "name": "stdout",
     "output_type": "stream",
     "text": [
      "4.79021461034006\n",
      "3.99420131027353\n"
     ]
    }
   ],
   "source": [
    "print(crr_binary_option(option_type='call', S=80, K=80, r=0.02, sigma=0.18,T=0.5,N=3))\n",
    "print(crr_binary_option(option_type='put', S=80, K=80, r=0.02, sigma=0.18,T=0.5,N=3))"
   ]
  },
  {
   "cell_type": "code",
   "execution_count": 7,
   "metadata": {},
   "outputs": [],
   "source": [
    "def find_N(option_type, S, K, r, sigma, T, epsilon):\n",
    "    N = 999\n",
    "    while True:\n",
    "        crr_price = crr_binary_option(option_type, S, K, r, sigma, T, N)\n",
    "        black_scholes_price = black_scholes(option_type, S, K, r, sigma, T)\n",
    "        diff = abs(crr_price - black_scholes_price)\n",
    "        if diff < epsilon:\n",
    "            break\n",
    "        N += 1\n",
    "    return N"
   ]
  },
  {
   "cell_type": "code",
   "execution_count": 8,
   "metadata": {},
   "outputs": [
    {
     "name": "stdout",
     "output_type": "stream",
     "text": [
      "Le nombre de périodes N pour une différence inférieure à 0.001 est : 999\n"
     ]
    }
   ],
   "source": [
    "epsilon = 0.1\n",
    "N = find_N(option_type='call', S=80, K=80, r=0.02, sigma=0.18, T=0.5, epsilon=0.001)\n",
    "print(\"Le nombre de périodes N pour une différence inférieure à 0.001 est :\", N)"
   ]
  },
  {
   "cell_type": "code",
   "execution_count": 14,
   "metadata": {},
   "outputs": [],
   "source": [
    "\"\"\"S = cours du sous-jacent\n",
    "   K = prix exercice\n",
    "   T = maturité en années\n",
    "   sigma= volatilité annuelle du sous-jacent\n",
    "   m = valeur moyenne du choc sur le cours du sous-jacent\n",
    "   v = écart-type du choc\n",
    "   lamda = nombre de chocs par année\n",
    "   V_BS = valeur option par la formule de Black and Scholes\n",
    "\"\"\"\n",
    "\n",
    "import math\n",
    "\n",
    "def prolongement_BS(option_type, S, K, r, sigma, T, m, v, lamda, n):\n",
    "   \n",
    "   sigma_n = math.sqrt(sigma**2 + 1*(v**2/T))\n",
    "\n",
    "   r_n = r - lamda*(m-1) + 1*math.log(m)/T\n",
    "   log_sum = sum(math.log(x) for x in range(1,n+1))\n",
    "   option_price = 0\n",
    "   for i in range(n+1):\n",
    "      sigma_n = math.sqrt(sigma**2 + i*(v**2/T))\n",
    "      r_n = r - lamda*(m-1) + i*math.log(m)/T\n",
    "      option_price = option_price + math.exp(-m*lamda*T + i*math.log(m*lamda*T)-log_sum)*black_scholes(option_type, S, K, r_n, sigma_n, T)\n",
    "      \n",
    "   return option_price"
   ]
  },
  {
   "cell_type": "code",
   "execution_count": 26,
   "metadata": {},
   "outputs": [
    {
     "data": {
      "text/plain": [
       "3.287949416633103e-65"
      ]
     },
     "execution_count": 26,
     "metadata": {},
     "output_type": "execute_result"
    }
   ],
   "source": [
    "n=10\n",
    "log_sum = sum(math.log(x) for x in range(1,n+1))\n",
    "log_sum\n"
   ]
  },
  {
   "cell_type": "code",
   "execution_count": 21,
   "metadata": {},
   "outputs": [
    {
     "ename": "ValueError",
     "evalue": "math domain error",
     "output_type": "error",
     "traceback": [
      "\u001b[1;31m---------------------------------------------------------------------------\u001b[0m",
      "\u001b[1;31mValueError\u001b[0m                                Traceback (most recent call last)",
      "\u001b[1;32m~\\AppData\\Local\\Temp\\ipykernel_12596\\2889151073.py\u001b[0m in \u001b[0;36m<module>\u001b[1;34m\u001b[0m\n\u001b[0;32m     10\u001b[0m \u001b[1;31m#log_sum = sum(math.log(x) for x in range(1,n+1))\u001b[0m\u001b[1;33m\u001b[0m\u001b[1;33m\u001b[0m\u001b[0m\n\u001b[0;32m     11\u001b[0m \u001b[1;31m#print(log_sum)\u001b[0m\u001b[1;33m\u001b[0m\u001b[1;33m\u001b[0m\u001b[0m\n\u001b[1;32m---> 12\u001b[1;33m \u001b[0mprint\u001b[0m\u001b[1;33m(\u001b[0m\u001b[0mprolongement_BS\u001b[0m\u001b[1;33m(\u001b[0m\u001b[1;34m'call'\u001b[0m\u001b[1;33m,\u001b[0m \u001b[1;36m100\u001b[0m\u001b[1;33m,\u001b[0m \u001b[1;36m100\u001b[0m\u001b[1;33m,\u001b[0m \u001b[1;36m0.02\u001b[0m\u001b[1;33m,\u001b[0m \u001b[1;36m0.2\u001b[0m\u001b[1;33m,\u001b[0m \u001b[1;36m1\u001b[0m\u001b[1;33m,\u001b[0m \u001b[1;36m0\u001b[0m\u001b[1;33m,\u001b[0m \u001b[1;36m0.3\u001b[0m\u001b[1;33m,\u001b[0m \u001b[1;36m1\u001b[0m\u001b[1;33m,\u001b[0m \u001b[1;36m50\u001b[0m\u001b[1;33m)\u001b[0m\u001b[1;33m)\u001b[0m\u001b[1;33m\u001b[0m\u001b[1;33m\u001b[0m\u001b[0m\n\u001b[0m",
      "\u001b[1;32m~\\AppData\\Local\\Temp\\ipykernel_12596\\3221043562.py\u001b[0m in \u001b[0;36mprolongement_BS\u001b[1;34m(option_type, S, K, r, sigma, T, m, v, lamda, n)\u001b[0m\n\u001b[0;32m     15\u001b[0m    \u001b[0msigma_n\u001b[0m \u001b[1;33m=\u001b[0m \u001b[0mmath\u001b[0m\u001b[1;33m.\u001b[0m\u001b[0msqrt\u001b[0m\u001b[1;33m(\u001b[0m\u001b[0msigma\u001b[0m\u001b[1;33m**\u001b[0m\u001b[1;36m2\u001b[0m \u001b[1;33m+\u001b[0m \u001b[1;36m1\u001b[0m\u001b[1;33m*\u001b[0m\u001b[1;33m(\u001b[0m\u001b[0mv\u001b[0m\u001b[1;33m**\u001b[0m\u001b[1;36m2\u001b[0m\u001b[1;33m/\u001b[0m\u001b[0mT\u001b[0m\u001b[1;33m)\u001b[0m\u001b[1;33m)\u001b[0m\u001b[1;33m\u001b[0m\u001b[1;33m\u001b[0m\u001b[0m\n\u001b[0;32m     16\u001b[0m \u001b[1;33m\u001b[0m\u001b[0m\n\u001b[1;32m---> 17\u001b[1;33m    \u001b[0mr_n\u001b[0m \u001b[1;33m=\u001b[0m \u001b[0mr\u001b[0m \u001b[1;33m-\u001b[0m \u001b[0mlamda\u001b[0m\u001b[1;33m*\u001b[0m\u001b[1;33m(\u001b[0m\u001b[0mm\u001b[0m\u001b[1;33m-\u001b[0m\u001b[1;36m1\u001b[0m\u001b[1;33m)\u001b[0m \u001b[1;33m+\u001b[0m \u001b[1;36m1\u001b[0m\u001b[1;33m*\u001b[0m\u001b[0mmath\u001b[0m\u001b[1;33m.\u001b[0m\u001b[0mlog\u001b[0m\u001b[1;33m(\u001b[0m\u001b[0mm\u001b[0m\u001b[1;33m)\u001b[0m\u001b[1;33m/\u001b[0m\u001b[0mT\u001b[0m\u001b[1;33m\u001b[0m\u001b[1;33m\u001b[0m\u001b[0m\n\u001b[0m\u001b[0;32m     18\u001b[0m    \u001b[0mlog_sum\u001b[0m \u001b[1;33m=\u001b[0m \u001b[0msum\u001b[0m\u001b[1;33m(\u001b[0m\u001b[0mmath\u001b[0m\u001b[1;33m.\u001b[0m\u001b[0mlog\u001b[0m\u001b[1;33m(\u001b[0m\u001b[0mx\u001b[0m\u001b[1;33m)\u001b[0m \u001b[1;32mfor\u001b[0m \u001b[0mx\u001b[0m \u001b[1;32min\u001b[0m \u001b[0mrange\u001b[0m\u001b[1;33m(\u001b[0m\u001b[1;36m1\u001b[0m\u001b[1;33m,\u001b[0m\u001b[0mn\u001b[0m\u001b[1;33m+\u001b[0m\u001b[1;36m1\u001b[0m\u001b[1;33m)\u001b[0m\u001b[1;33m)\u001b[0m\u001b[1;33m\u001b[0m\u001b[1;33m\u001b[0m\u001b[0m\n\u001b[0;32m     19\u001b[0m    \u001b[0moption_price\u001b[0m \u001b[1;33m=\u001b[0m \u001b[1;36m0\u001b[0m\u001b[1;33m\u001b[0m\u001b[1;33m\u001b[0m\u001b[0m\n",
      "\u001b[1;31mValueError\u001b[0m: math domain error"
     ]
    }
   ],
   "source": [
    "S=100\n",
    "K=100\n",
    "T=1\n",
    "r=0.02\n",
    "sigma=0.2\n",
    "m=0\n",
    "v=0.3\n",
    "lamda=1\n",
    "n=50\n",
    "#log_sum = sum(math.log(x) for x in range(1,n+1))\n",
    "#print(log_sum)\n",
    "print(prolongement_BS('call', 100, 100, 0.02, 0.2, 1, 0, 0.3, 1, 50))"
   ]
  }
 ],
 "metadata": {
  "kernelspec": {
   "display_name": "base",
   "language": "python",
   "name": "python3"
  },
  "language_info": {
   "codemirror_mode": {
    "name": "ipython",
    "version": 3
   },
   "file_extension": ".py",
   "mimetype": "text/x-python",
   "name": "python",
   "nbconvert_exporter": "python",
   "pygments_lexer": "ipython3",
   "version": "3.9.13"
  },
  "orig_nbformat": 4
 },
 "nbformat": 4,
 "nbformat_minor": 2
}
